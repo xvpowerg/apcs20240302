{
 "cells": [
  {
   "cell_type": "code",
   "execution_count": 5,
   "id": "c340257a-0c52-4b29-94b3-e55769af022d",
   "metadata": {},
   "outputs": [
    {
     "name": "stdout",
     "output_type": "stream",
     "text": [
      "H\n",
      "e\n",
      "l\n",
      "l\n",
      "o\n",
      "====================\n",
      "Apple\n",
      "Banana\n",
      "Cherry\n",
      "====================\n",
      "1 2\n",
      "2 3\n",
      "3 4\n"
     ]
    }
   ],
   "source": [
    "word = \"Hello\"\n",
    "for c in word:\n",
    "    print(c)\n",
    "print(\"====================\")\n",
    "fruits = ['Apple','Banana','Cherry']\n",
    "for f in fruits:\n",
    "    print(f)\n",
    "print(\"====================\")\n",
    "listOpTuple = [(1,2),(2,3),(3,4)]\n",
    "for x1,x2 in listOpTuple:\n",
    "    print(x1,x2)\n",
    "    "
   ]
  },
  {
   "cell_type": "code",
   "execution_count": 8,
   "id": "8249f301-f0f6-4dc8-b688-1a9115efb415",
   "metadata": {},
   "outputs": [
    {
     "name": "stdout",
     "output_type": "stream",
     "text": [
      "國文 100\n",
      "數學 80\n",
      "英文 95\n",
      "[('國文', 100), ('數學', 80), ('英文', 95)]\n",
      "國文 100\n",
      "數學 80\n",
      "英文 95\n"
     ]
    }
   ],
   "source": [
    "subjs = ['國文','數學','英文']\n",
    "scores = [100,80,95]\n",
    "for i in range(len(subjs)):\n",
    "    print(subjs[i],scores[i])\n",
    "print(list(zip(subjs,scores)))  \n",
    "\n",
    "for n,s in zip(subjs,scores):\n",
    "    print(n,s)"
   ]
  },
  {
   "cell_type": "markdown",
   "id": "fc7e62c8-8abf-41dd-a344-53255ff4c79f",
   "metadata": {},
   "source": [
    "## 九九乘法表"
   ]
  },
  {
   "cell_type": "code",
   "execution_count": 10,
   "id": "b55fdefe-9be0-4f38-8d7b-46471d2dffd8",
   "metadata": {},
   "outputs": [
    {
     "name": "stdout",
     "output_type": "stream",
     "text": [
      "2*1=2\t2*2=4\t2*3=6\t2*4=8\t2*5=10\t2*6=12\t2*7=14\t2*8=16\t2*9=18\t\n",
      "3*1=3\t3*2=6\t3*3=9\t3*4=12\t3*5=15\t3*6=18\t3*7=21\t3*8=24\t3*9=27\t\n",
      "4*1=4\t4*2=8\t4*3=12\t4*4=16\t4*5=20\t4*6=24\t4*7=28\t4*8=32\t4*9=36\t\n",
      "5*1=5\t5*2=10\t5*3=15\t5*4=20\t5*5=25\t5*6=30\t5*7=35\t5*8=40\t5*9=45\t\n",
      "6*1=6\t6*2=12\t6*3=18\t6*4=24\t6*5=30\t6*6=36\t6*7=42\t6*8=48\t6*9=54\t\n",
      "7*1=7\t7*2=14\t7*3=21\t7*4=28\t7*5=35\t7*6=42\t7*7=49\t7*8=56\t7*9=63\t\n",
      "8*1=8\t8*2=16\t8*3=24\t8*4=32\t8*5=40\t8*6=48\t8*7=56\t8*8=64\t8*9=72\t\n",
      "9*1=9\t9*2=18\t9*3=27\t9*4=36\t9*5=45\t9*6=54\t9*7=63\t9*8=72\t9*9=81\t\n"
     ]
    }
   ],
   "source": [
    "for x in range(2,10):\n",
    "    for y in range(1,10):\n",
    "        print(f\"{x}*{y}={x*y}\",end=\"\\t\")\n",
    "    print()     "
   ]
  },
  {
   "cell_type": "code",
   "execution_count": null,
   "id": "d62b8012-b698-4f54-872f-2b0cff1b960d",
   "metadata": {},
   "outputs": [],
   "source": [
    "## 作業1 用for while 都練\n",
    "\"\"\"\n",
    "*****\n",
    "*****\n",
    "*****\n",
    "\"\"\""
   ]
  },
  {
   "cell_type": "markdown",
   "id": "1f4352b1-2541-4c96-8b27-f20c23f7e8f0",
   "metadata": {},
   "source": [
    "## While"
   ]
  },
  {
   "cell_type": "code",
   "execution_count": 11,
   "id": "12de9c79-4e24-4012-b5f8-08582542360d",
   "metadata": {},
   "outputs": [
    {
     "name": "stdout",
     "output_type": "stream",
     "text": [
      "10 9 8 7 6 5 4 3 2 1 "
     ]
    }
   ],
   "source": [
    "a = 10\n",
    "while a > 0:\n",
    "    print(a,end = \" \")\n",
    "    a -= 1"
   ]
  },
  {
   "cell_type": "code",
   "execution_count": 15,
   "id": "995b64bb-01ac-4aa0-9455-fd8499431380",
   "metadata": {},
   "outputs": [
    {
     "name": "stdin",
     "output_type": "stream",
     "text": [
      "請輸入第一個數字 25\n",
      "請輸入第二個數字 30\n"
     ]
    },
    {
     "name": "stdout",
     "output_type": "stream",
     "text": [
      "25 + 30 = 55\n"
     ]
    },
    {
     "name": "stdin",
     "output_type": "stream",
     "text": [
      "是否繼續(y/n) y\n",
      "請輸入第一個數字 15\n",
      "請輸入第二個數字 20\n"
     ]
    },
    {
     "name": "stdout",
     "output_type": "stream",
     "text": [
      "15 + 20 = 35\n"
     ]
    },
    {
     "name": "stdin",
     "output_type": "stream",
     "text": [
      "是否繼續(y/n) n\n"
     ]
    }
   ],
   "source": [
    "keyin = 'y'\n",
    "ans = 0\n",
    "while keyin == 'y':\n",
    "    n1 = int(input(\"請輸入第一個數字\"))\n",
    "    n2 = int(input(\"請輸入第二個數字\"))\n",
    "    ans = n1 + n2\n",
    "    print(n1,\"+\",n2,\"=\",ans)\n",
    "    keyin = input(\"是否繼續(y/n)\")"
   ]
  },
  {
   "cell_type": "code",
   "execution_count": null,
   "id": "b3db084f-e3d1-4d38-b128-4919c08eeb25",
   "metadata": {},
   "outputs": [],
   "source": [
    "##費式係數\n",
    "#1 2 3 4 5 6  7  8\n",
    "#1 1 2 3 5 8 13  21\n",
    "#希望求到費式係數8的數值\n",
    "n1,n2 = 1,1\n",
    "next = n1 + n2 #2\n",
    "\n",
    "print(next)# 2 3 5\n",
    "n1 = n2 # 1 2\n",
    "n2 = next# 2 3\n",
    "next = n1 + n2  #3 5\n"
   ]
  },
  {
   "cell_type": "markdown",
   "id": "07c48c5b-9acd-4bd5-a16b-4a6c7bb0438e",
   "metadata": {},
   "source": [
    "## break"
   ]
  },
  {
   "cell_type": "code",
   "execution_count": 17,
   "id": "cc15b126-76a3-4ff1-b40a-0dc330701405",
   "metadata": {},
   "outputs": [
    {
     "name": "stdout",
     "output_type": "stream",
     "text": [
      "0\n",
      "1\n",
      "2\n"
     ]
    }
   ],
   "source": [
    "for i in range(5):\n",
    "    print(i)\n",
    "    if i == 2:\n",
    "        break"
   ]
  },
  {
   "cell_type": "code",
   "execution_count": 18,
   "id": "a042f27e-b64b-46e3-9079-b979b68ddf71",
   "metadata": {},
   "outputs": [
    {
     "name": "stdin",
     "output_type": "stream",
     "text": [
      "猜一個數字 2\n",
      "猜一個數字 3\n",
      "猜一個數字 1\n",
      "猜一個數字 7\n",
      "猜一個數字 5\n"
     ]
    },
    {
     "name": "stdout",
     "output_type": "stream",
     "text": [
      "猜對了!\n",
      "完成遊戲 你猜了 5 次\n"
     ]
    }
   ],
   "source": [
    "count = 1\n",
    "anser = 5\n",
    "guess = int(input(\"猜一個數字\"))\n",
    "while True:\n",
    "    if guess == anser:\n",
    "        print(\"猜對了!\")\n",
    "        break\n",
    "    count += 1\n",
    "    guess = int(input(\"猜一個數字\"))\n",
    "print(\"完成遊戲 你猜了\",count,\"次\")    "
   ]
  },
  {
   "cell_type": "markdown",
   "id": "f0edb69c-2928-4964-9624-68a905d88218",
   "metadata": {},
   "source": [
    "## Continue"
   ]
  },
  {
   "cell_type": "code",
   "execution_count": 22,
   "id": "74bfc514-df15-4177-9b61-e69c06beee7e",
   "metadata": {},
   "outputs": [
    {
     "name": "stdout",
     "output_type": "stream",
     "text": [
      "0\n",
      "1\n",
      "3\n",
      "4\n"
     ]
    }
   ],
   "source": [
    "for i in range(5):\n",
    "    if i == 2:\n",
    "        continue    \n",
    "    print(i)"
   ]
  },
  {
   "cell_type": "code",
   "execution_count": 23,
   "id": "189bcdab-689d-41b3-9751-83367152d187",
   "metadata": {},
   "outputs": [
    {
     "name": "stdout",
     "output_type": "stream",
     "text": [
      "Ken\n",
      "Vivivn\n",
      "Joy\n"
     ]
    }
   ],
   "source": [
    "result = [\"Ken\",\"Vivivn\",\"Lucy\",\"Joy\"]\n",
    "for n in result:\n",
    "    if n == 'Lucy':\n",
    "        continue\n",
    "    print(n)    "
   ]
  },
  {
   "cell_type": "markdown",
   "id": "2e69c068-8abf-4a20-9d1c-45837b96e7ec",
   "metadata": {},
   "source": [
    "## 檢查所輸入的數是否為質數"
   ]
  },
  {
   "cell_type": "code",
   "execution_count": 26,
   "id": "e10043e3-1ce2-4ffa-a6c7-93a7c1c86a4a",
   "metadata": {},
   "outputs": [
    {
     "name": "stdin",
     "output_type": "stream",
     "text": [
      "輸入整數 11\n"
     ]
    },
    {
     "name": "stdout",
     "output_type": "stream",
     "text": [
      "是質數\n"
     ]
    }
   ],
   "source": [
    "num = int(input(\"輸入整數\"))\n",
    "isPrimeNum = True\n",
    "for i in range(2,num):\n",
    "    if  num % i == 0:\n",
    "        isPrimeNum = False\n",
    "        break\n",
    "if isPrimeNum:\n",
    "    print(\"是質數\")\n",
    "else:\n",
    "    print(\"不是質數\")"
   ]
  },
  {
   "cell_type": "code",
   "execution_count": 24,
   "id": "937cf89a-3b6a-488a-9c32-cf67db939545",
   "metadata": {},
   "outputs": [],
   "source": [
    "## 作業\n",
    "## 檢查所輸入的數是否為質數使用while"
   ]
  },
  {
   "cell_type": "code",
   "execution_count": null,
   "id": "b73bf91e-bdfa-4e15-a11a-8453f79cc52d",
   "metadata": {},
   "outputs": [],
   "source": []
  }
 ],
 "metadata": {
  "kernelspec": {
   "display_name": "Python 3 (ipykernel)",
   "language": "python",
   "name": "python3"
  },
  "language_info": {
   "codemirror_mode": {
    "name": "ipython",
    "version": 3
   },
   "file_extension": ".py",
   "mimetype": "text/x-python",
   "name": "python",
   "nbconvert_exporter": "python",
   "pygments_lexer": "ipython3",
   "version": "3.11.8"
  }
 },
 "nbformat": 4,
 "nbformat_minor": 5
}
