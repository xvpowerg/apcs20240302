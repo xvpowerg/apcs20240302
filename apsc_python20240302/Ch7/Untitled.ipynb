{
 "cells": [
  {
   "cell_type": "markdown",
   "id": "8d3cc707-8514-49f9-a4e3-32426156fc9e",
   "metadata": {},
   "source": [
    "## 列出輸入整數的所有因數"
   ]
  },
  {
   "cell_type": "code",
   "execution_count": 8,
   "id": "b0c194e1-67e1-40ed-8cdf-e4e14a123b27",
   "metadata": {},
   "outputs": [
    {
     "name": "stdin",
     "output_type": "stream",
     "text": [
      "輸入整數 108\n"
     ]
    },
    {
     "name": "stdout",
     "output_type": "stream",
     "text": [
      "108 的因數: 1 2 3 4 6 9 12 18 27 36 54 108 "
     ]
    }
   ],
   "source": [
    "num = int(input(\"輸入整數\"))\n",
    "print(num,\"的因數:\",end=\" \")\n",
    "for i in range(1,num+1):\n",
    "    if (num % i != 0 ):\n",
    "        continue\n",
    "    print(i,end = \" \")    "
   ]
  },
  {
   "cell_type": "markdown",
   "id": "b719ac8d-43f4-4cfa-b167-9fc035e249b1",
   "metadata": {},
   "source": [
    "## 函式 function"
   ]
  },
  {
   "cell_type": "code",
   "execution_count": 9,
   "id": "dde65472-c516-4f6a-9e2c-09e60ebc95fc",
   "metadata": {},
   "outputs": [
    {
     "name": "stdout",
     "output_type": "stream",
     "text": [
      "Hello!!\n"
     ]
    }
   ],
   "source": [
    "def myInfo():\n",
    "    print(\"Hello!!\")\n",
    "myInfo()    "
   ]
  },
  {
   "cell_type": "code",
   "execution_count": 10,
   "id": "38fa1003-10cd-4273-b26c-a57dc03ee1f4",
   "metadata": {},
   "outputs": [
    {
     "name": "stdout",
     "output_type": "stream",
     "text": [
      "15\n"
     ]
    }
   ],
   "source": [
    "def print_sum(a,b):\n",
    "    c = a + b\n",
    "    print(c)\n",
    "print_sum(10,5)    "
   ]
  },
  {
   "cell_type": "code",
   "execution_count": null,
   "id": "d86141dc-a7e8-4d32-953d-3c384c61989c",
   "metadata": {},
   "outputs": [],
   "source": [
    "#作業 做一個乘法的函式"
   ]
  },
  {
   "cell_type": "code",
   "execution_count": 2,
   "id": "6899cf6a-73ec-43a4-a571-77a4638c4097",
   "metadata": {},
   "outputs": [
    {
     "name": "stdout",
     "output_type": "stream",
     "text": [
      "10\n",
      "72\n"
     ]
    }
   ],
   "source": [
    "def print_multi(a,b):\n",
    "    c = a * b\n",
    "    return c\n",
    "print(print_multi(5,2))\n",
    "print(print_multi(9,8))"
   ]
  },
  {
   "cell_type": "code",
   "execution_count": 12,
   "id": "96817b59-db8a-4247-85d0-ae0a432e7f1b",
   "metadata": {},
   "outputs": [
    {
     "ename": "TypeError",
     "evalue": "print_minus() missing 1 required positional argument: 'c'",
     "output_type": "error",
     "traceback": [
      "\u001b[1;31m---------------------------------------------------------------------------\u001b[0m",
      "\u001b[1;31mTypeError\u001b[0m                                 Traceback (most recent call last)",
      "Cell \u001b[1;32mIn[12], line 7\u001b[0m\n\u001b[0;32m      5\u001b[0m     e \u001b[38;5;241m=\u001b[39m a \u001b[38;5;241m-\u001b[39m b \u001b[38;5;241m-\u001b[39m c\n\u001b[0;32m      6\u001b[0m     \u001b[38;5;28mprint\u001b[39m(e)\n\u001b[1;32m----> 7\u001b[0m print_minus(\u001b[38;5;241m10\u001b[39m,\u001b[38;5;241m2\u001b[39m)    \n\u001b[0;32m      8\u001b[0m print_minus(\u001b[38;5;241m10\u001b[39m,\u001b[38;5;241m2\u001b[39m,\u001b[38;5;241m3\u001b[39m)\n",
      "\u001b[1;31mTypeError\u001b[0m: print_minus() missing 1 required positional argument: 'c'"
     ]
    }
   ],
   "source": [
    "def print_minus(a,b):\n",
    "    c = a - b\n",
    "    print(c)\n",
    "def print_minus(a,b,c):#蓋過print_minus(a,b)\n",
    "    e = a - b - c\n",
    "    print(e)\n",
    "print_minus(10,2)    \n",
    "print_minus(10,2,3)    "
   ]
  },
  {
   "cell_type": "markdown",
   "id": "fe920e90-7966-4e88-9f13-4b7f83192b90",
   "metadata": {},
   "source": [
    "# 攝氏溫度轉換華氏溫度程式"
   ]
  },
  {
   "cell_type": "code",
   "execution_count": 18,
   "id": "830c64ad-0233-475a-97c5-54b834e5dee1",
   "metadata": {},
   "outputs": [
    {
     "name": "stdout",
     "output_type": "stream",
     "text": [
      "78.8\n",
      "86.0\n"
     ]
    }
   ],
   "source": [
    "def c2f(c):\n",
    "    f = 9 / 5 * c + 32\n",
    "    return f\n",
    "x = c2f(26)\n",
    "print(round(x,2) )\n",
    "x2 = c2f(30)\n",
    "print(round(x2,2) )"
   ]
  },
  {
   "cell_type": "code",
   "execution_count": 24,
   "id": "536707dc-d2f0-484a-ae83-2406cd49f894",
   "metadata": {},
   "outputs": [
    {
     "name": "stdout",
     "output_type": "stream",
     "text": [
      "7\n",
      "10\n"
     ]
    }
   ],
   "source": [
    "def get_sum(a,b,c = 0):\n",
    "    return a + b + c\n",
    "print(get_sum(2,5))\n",
    "print(get_sum(2,5,3))    "
   ]
  },
  {
   "cell_type": "code",
   "execution_count": 34,
   "id": "fe829fbb-ff1b-41ea-81d8-44b80e58be15",
   "metadata": {},
   "outputs": [
    {
     "name": "stdout",
     "output_type": "stream",
     "text": [
      "350\n",
      "269\n",
      "38\n",
      "45\n"
     ]
    }
   ],
   "source": [
    "def weight_sum(c,e=80,m=60):\n",
    "    return (c + e*2 + m * 3)\n",
    "x =  weight_sum(10)   \n",
    "print(x)\n",
    "\n",
    "x2 = weight_sum(100,m = 3)\n",
    "print(x2)\n",
    "x3 = weight_sum(2,m = 10,e = 3)\n",
    "print(x3)\n",
    "x4 = weight_sum(m = 10,e = 3,c = 9)\n",
    "print(x4)"
   ]
  },
  {
   "cell_type": "code",
   "execution_count": null,
   "id": "3323fe98-8a7a-4011-be80-581c12a9f62a",
   "metadata": {},
   "outputs": [],
   "source": [
    "#作業\n",
    "#請使用方法計算BMI"
   ]
  },
  {
   "cell_type": "code",
   "execution_count": 3,
   "id": "d02a5b70-6f43-4d63-a1ee-86da4b582e81",
   "metadata": {},
   "outputs": [
    {
     "name": "stdout",
     "output_type": "stream",
     "text": [
      "23.15\n"
     ]
    }
   ],
   "source": [
    "def bmiFunc(h,w):\n",
    "    bmi = w / (h / 100)**2\n",
    "    return round(bmi,2)\n",
    "bmi = bmiFunc(180,75)\n",
    "print(bmi)"
   ]
  },
  {
   "cell_type": "code",
   "execution_count": null,
   "id": "9e4d653d-86c8-410b-8622-6ac86b0f800f",
   "metadata": {},
   "outputs": [],
   "source": []
  }
 ],
 "metadata": {
  "kernelspec": {
   "display_name": "Python 3 (ipykernel)",
   "language": "python",
   "name": "python3"
  },
  "language_info": {
   "codemirror_mode": {
    "name": "ipython",
    "version": 3
   },
   "file_extension": ".py",
   "mimetype": "text/x-python",
   "name": "python",
   "nbconvert_exporter": "python",
   "pygments_lexer": "ipython3",
   "version": "3.11.8"
  }
 },
 "nbformat": 4,
 "nbformat_minor": 5
}
