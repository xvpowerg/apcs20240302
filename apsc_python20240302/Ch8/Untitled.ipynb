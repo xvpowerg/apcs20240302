{
 "cells": [
  {
   "cell_type": "markdown",
   "id": "6bc8903a-7c57-4627-b53b-9216409d50c4",
   "metadata": {},
   "source": [
    "## 不定個數的參數"
   ]
  },
  {
   "cell_type": "code",
   "execution_count": 7,
   "id": "b5e1310a-f681-41b8-a1af-c23bd1b2b585",
   "metadata": {},
   "outputs": [
    {
     "name": "stdout",
     "output_type": "stream",
     "text": [
      "10 20 ()\n",
      "10 20 (30,)\n",
      "10 20 (30, 40, 50, 60)\n"
     ]
    }
   ],
   "source": [
    "def f1(x,y,*z):\n",
    "    print(x,y,z)\n",
    "f1(10,20)   \n",
    "f1(10,20,30)\n",
    "f1(10,20,30,40,50,60)"
   ]
  },
  {
   "cell_type": "code",
   "execution_count": 11,
   "id": "59de0a77-7a01-496a-86f5-622beb7c10f8",
   "metadata": {},
   "outputs": [
    {
     "name": "stdout",
     "output_type": "stream",
     "text": [
      "全校人數:31\n"
     ]
    }
   ],
   "source": [
    "def f2(title,*v):\n",
    "    sum = 0\n",
    "    for i in v:\n",
    "        sum += i\n",
    "    return f\"{title}:{sum}\"\n",
    "result = f2(\"全校人數\",5,9,10,7)\n",
    "print(result)"
   ]
  },
  {
   "cell_type": "code",
   "execution_count": 13,
   "id": "c73af361-bea0-4a52-9b89-066a1fcda997",
   "metadata": {},
   "outputs": [
    {
     "name": "stdout",
     "output_type": "stream",
     "text": [
      "20 {}\n",
      "20 {'name': 'Ken', 'age': 25}\n"
     ]
    }
   ],
   "source": [
    "def f3(v1,**v2):\n",
    "    print(v1,v2)\n",
    "f3(20)    \n",
    "f3(20,name=\"Ken\",age=25)  "
   ]
  },
  {
   "cell_type": "code",
   "execution_count": 20,
   "id": "4c37f33c-c6ef-4ba1-a84e-a1e466c5b0ff",
   "metadata": {},
   "outputs": [
    {
     "name": "stdout",
     "output_type": "stream",
     "text": [
      "姓名: Vivin\n",
      "身高: 162.5\n"
     ]
    }
   ],
   "source": [
    "def f4(**v):\n",
    "    for key in v:\n",
    "        if key == \"name\":\n",
    "            print(\"姓名:\",v[key])\n",
    "        elif key == \"height\":\n",
    "            print(\"身高:\",v[key])\n",
    "        #print(key,v[key])\n",
    "f4(name=\"Vivin\",height=162.5)        "
   ]
  },
  {
   "cell_type": "markdown",
   "id": "6afeae0a-5c45-4d60-b1e6-53d58d1a7d66",
   "metadata": {},
   "source": [
    "## Python 變數範圍"
   ]
  },
  {
   "cell_type": "code",
   "execution_count": 32,
   "id": "10f2ad37-ef58-4ad3-b9a0-8590dfd939b3",
   "metadata": {},
   "outputs": [
    {
     "name": "stdout",
     "output_type": "stream",
     "text": [
      "x: 140721791882056\n",
      "2\n",
      "chnage: 2131177446320\n",
      "2\n"
     ]
    }
   ],
   "source": [
    "def chnage(x):\n",
    "    x = -100\n",
    "    print(\"chnage:\",id(x))\n",
    "    \n",
    "x = 2\n",
    "print(\"x:\",id(x))\n",
    "print(x)\n",
    "chnage(x)\n",
    "print(x)"
   ]
  },
  {
   "cell_type": "code",
   "execution_count": 30,
   "id": "e82781d8-c74b-42aa-a9eb-009cc4a29d14",
   "metadata": {},
   "outputs": [
    {
     "name": "stdout",
     "output_type": "stream",
     "text": [
      "list2: 2131178555328\n",
      "[2, 3, 4]\n",
      "chnage2: 2131178555328\n",
      "[2, 88, 4]\n"
     ]
    }
   ],
   "source": [
    "def change2(myList):\n",
    "    myList[1] = 88\n",
    "    print(\"chnage2:\",id(myList))\n",
    "list2 = [2,3,4]\n",
    "print(\"list2:\",id(list2))\n",
    "print(list2)\n",
    "change2(list2)\n",
    "print(list2)"
   ]
  },
  {
   "cell_type": "markdown",
   "id": "d6f23e8d-2fe8-4d92-a56d-43688943b21b",
   "metadata": {},
   "source": [
    "## 同名變數"
   ]
  },
  {
   "cell_type": "code",
   "execution_count": 33,
   "id": "ee344f2a-9872-4f70-ae16-4e4c53765681",
   "metadata": {},
   "outputs": [
    {
     "name": "stdout",
     "output_type": "stream",
     "text": [
      "5\n"
     ]
    }
   ],
   "source": [
    "a = 5\n",
    "def func():\n",
    "    print(a)\n",
    "func()    "
   ]
  },
  {
   "cell_type": "code",
   "execution_count": 34,
   "id": "c5ec9cec-a5fd-4e9a-932e-a96ff380154a",
   "metadata": {},
   "outputs": [
    {
     "name": "stdout",
     "output_type": "stream",
     "text": [
      "func():a= 10\n"
     ]
    }
   ],
   "source": [
    "a = 5\n",
    "def func2():\n",
    "    a = 10\n",
    "    print(\"func():a=\",a)\n",
    "func2()"
   ]
  },
  {
   "cell_type": "code",
   "execution_count": 35,
   "id": "94cce259-d2f9-46db-92ff-a635a7bce801",
   "metadata": {},
   "outputs": [
    {
     "ename": "UnboundLocalError",
     "evalue": "cannot access local variable 'a' where it is not associated with a value",
     "output_type": "error",
     "traceback": [
      "\u001b[1;31m---------------------------------------------------------------------------\u001b[0m",
      "\u001b[1;31mUnboundLocalError\u001b[0m                         Traceback (most recent call last)",
      "Cell \u001b[1;32mIn[35], line 5\u001b[0m\n\u001b[0;32m      3\u001b[0m     a \u001b[38;5;241m+\u001b[39m\u001b[38;5;241m=\u001b[39m \u001b[38;5;241m1\u001b[39m\n\u001b[0;32m      4\u001b[0m     \u001b[38;5;28mprint\u001b[39m(a)\n\u001b[1;32m----> 5\u001b[0m func3()\n",
      "Cell \u001b[1;32mIn[35], line 3\u001b[0m, in \u001b[0;36mfunc3\u001b[1;34m()\u001b[0m\n\u001b[0;32m      2\u001b[0m \u001b[38;5;28;01mdef\u001b[39;00m \u001b[38;5;21mfunc3\u001b[39m():\n\u001b[1;32m----> 3\u001b[0m     a \u001b[38;5;241m+\u001b[39m\u001b[38;5;241m=\u001b[39m \u001b[38;5;241m1\u001b[39m\n\u001b[0;32m      4\u001b[0m     \u001b[38;5;28mprint\u001b[39m(a)\n",
      "\u001b[1;31mUnboundLocalError\u001b[0m: cannot access local variable 'a' where it is not associated with a value"
     ]
    }
   ],
   "source": [
    "a = 5\n",
    "def func3():\n",
    "    a += 1\n",
    "    print(a)\n",
    "func3()    "
   ]
  },
  {
   "cell_type": "code",
   "execution_count": 39,
   "id": "44817985-f6db-4c1e-bdef-04e7b18d1602",
   "metadata": {},
   "outputs": [
    {
     "name": "stdout",
     "output_type": "stream",
     "text": [
      "6\n"
     ]
    }
   ],
   "source": [
    "a = 5\n",
    "def func4():\n",
    "    global a #跟python對外面的a計算\n",
    "    a += 1\n",
    "    print(a)\n",
    "func4()   "
   ]
  },
  {
   "cell_type": "code",
   "execution_count": 40,
   "id": "fbef8157-bf4b-42d1-83ac-6621c7b72fea",
   "metadata": {},
   "outputs": [
    {
     "name": "stdout",
     "output_type": "stream",
     "text": [
      "9\n"
     ]
    }
   ],
   "source": [
    "def func(x):\n",
    "    return x**2\n",
    "v1 = func\n",
    "print(v1(3))"
   ]
  },
  {
   "cell_type": "code",
   "execution_count": 42,
   "id": "3f72f5fa-3ae7-47a4-8967-a0b7750c747f",
   "metadata": {},
   "outputs": [
    {
     "name": "stdout",
     "output_type": "stream",
     "text": [
      "[4, 5, 6, 7, 8]\n",
      "[2, 4, 6, 8, 10]\n"
     ]
    }
   ],
   "source": [
    "myList=  [1,2,3,4,5]\n",
    "def myCalculate(data,claFunc):\n",
    "    newList= []\n",
    "    for v in myList:\n",
    "        n = claFunc(v)\n",
    "        newList.append(n)\n",
    "    return newList \n",
    "def add3(v):\n",
    "    return v + 3\n",
    "def mul2(v):\n",
    "    return v * 2   \n",
    "addList = myCalculate(myList,add3)    \n",
    "mulList = myCalculate(myList,mul2)    \n",
    "print(addList)\n",
    "print(mulList)"
   ]
  },
  {
   "cell_type": "code",
   "execution_count": null,
   "id": "c4720c63-5229-46d3-8997-8be32b0435d8",
   "metadata": {},
   "outputs": [],
   "source": [
    "# 作業 請用函數判斷某數是否為質數\n",
    "# 是質數回傳True 不是質數回傳False \n",
    "#def prime(n)\n"
   ]
  },
  {
   "cell_type": "code",
   "execution_count": null,
   "id": "ebae56f8-6766-4de2-8caa-c7801c5f182e",
   "metadata": {},
   "outputs": [],
   "source": [
    "# 作業 請用函數產生9x9表"
   ]
  },
  {
   "cell_type": "code",
   "execution_count": null,
   "id": "8141d451-b1d9-43d5-b15e-6fcad1f87049",
   "metadata": {},
   "outputs": [],
   "source": [
    "# 作業 給函數一範圍\n",
    "#預設開始是1 end 為 9\n",
    "# start = 2  end = 5\n",
    "\n",
    "#def table(start,end):"
   ]
  }
 ],
 "metadata": {
  "kernelspec": {
   "display_name": "Python 3 (ipykernel)",
   "language": "python",
   "name": "python3"
  },
  "language_info": {
   "codemirror_mode": {
    "name": "ipython",
    "version": 3
   },
   "file_extension": ".py",
   "mimetype": "text/x-python",
   "name": "python",
   "nbconvert_exporter": "python",
   "pygments_lexer": "ipython3",
   "version": "3.11.8"
  }
 },
 "nbformat": 4,
 "nbformat_minor": 5
}
