{
 "cells": [
  {
   "cell_type": "code",
   "execution_count": 2,
   "id": "5e171c54",
   "metadata": {},
   "outputs": [
    {
     "name": "stdout",
     "output_type": "stream",
     "text": [
      "Hello!!\n"
     ]
    }
   ],
   "source": [
    "print(\"Hello!!\")"
   ]
  },
  {
   "cell_type": "code",
   "execution_count": 12,
   "id": "92f4fe3b",
   "metadata": {},
   "outputs": [
    {
     "name": "stdout",
     "output_type": "stream",
     "text": [
      "123\n",
      "3.71828\n",
      "字串1\n",
      "字串2\n"
     ]
    }
   ],
   "source": [
    "#我要輸出數字\n",
    "\"\"\"\n",
    "數字 整數:沒小數點的  浮點數:有小數點的\n",
    "字串\n",
    "自訂類型\n",
    "\"\"\"\n",
    "print(123)\n",
    "print(3.71828)\n",
    "print(\"字串1\")\n",
    "print('字串2')\n"
   ]
  },
  {
   "cell_type": "code",
   "execution_count": 27,
   "id": "9cfcc2c3",
   "metadata": {},
   "outputs": [
    {
     "name": "stdout",
     "output_type": "stream",
     "text": [
      "123 3.71828 字串1 字串2\n",
      "123 3.71828 字串1 字串2 "
     ]
    }
   ],
   "source": [
    "#方案1\n",
    "print(123,3.71828,\"字串1\",'字串2')\n",
    "#方案2\n",
    "#end 每次呼叫print()最後輸出內容\n",
    "print(123,end=\" \")\n",
    "print(3.71828,end=\" \")\n",
    "print(\"字串1\",end=\" \")\n",
    "print('字串2',end=\" \")"
   ]
  },
  {
   "cell_type": "code",
   "execution_count": 42,
   "id": "3bf5ea1a",
   "metadata": {},
   "outputs": [
    {
     "name": "stdout",
     "output_type": "stream",
     "text": [
      "A,B,C,D\n"
     ]
    }
   ],
   "source": [
    "#資料中間用甚麼隔開 用sep\n",
    "print(\"A\",\"B\",\"C\",\"D\",sep=',')"
   ]
  },
  {
   "cell_type": "code",
   "execution_count": 48,
   "id": "c2e0e4b7",
   "metadata": {},
   "outputs": [
    {
     "name": "stdout",
     "output_type": "stream",
     "text": [
      "20\n"
     ]
    }
   ],
   "source": [
    "x = 2\n",
    "y = 10\n",
    "print(x * y)"
   ]
  },
  {
   "cell_type": "code",
   "execution_count": 49,
   "id": "2309d748",
   "metadata": {},
   "outputs": [
    {
     "name": "stdout",
     "output_type": "stream",
     "text": [
      "apple1\n",
      "Apple2\n"
     ]
    }
   ],
   "source": [
    "apple = \"apple1\"\n",
    "Apple = \"Apple2\"\n",
    "print(apple)\n",
    "print(Apple)"
   ]
  },
  {
   "cell_type": "code",
   "execution_count": 51,
   "id": "8adb80cd",
   "metadata": {},
   "outputs": [
    {
     "name": "stdout",
     "output_type": "stream",
     "text": [
      "Ken\n",
      "Iris\n"
     ]
    }
   ],
   "source": [
    "v2 = \"Ken\"\n",
    "print(v2)\n",
    "_v3 = \"Iris\"#內建變數\n",
    "print(_v3)"
   ]
  },
  {
   "cell_type": "code",
   "execution_count": 59,
   "id": "cc238a92",
   "metadata": {},
   "outputs": [
    {
     "name": "stdout",
     "output_type": "stream",
     "text": [
      "薪資:31000\n"
     ]
    }
   ],
   "source": [
    "salary = 25000\n",
    "加給 = 2000\n",
    "倍數 = 3\n",
    "\n",
    "pay = salary + 加給 * 倍數\n",
    "print(\"薪資:\",pay,sep=\"\")\n",
    "#薪資:31000"
   ]
  },
  {
   "cell_type": "code",
   "execution_count": 75,
   "id": "8939427b",
   "metadata": {},
   "outputs": [
    {
     "name": "stdout",
     "output_type": "stream",
     "text": [
      "Ken\n",
      "<class 'str'>\n",
      "10\n",
      "<class 'int'>\n",
      "12.6\n",
      "<class 'float'>\n"
     ]
    }
   ],
   "source": [
    "# type 可以看變數的類型\n",
    "name = \"Ken\"\n",
    "print(name)\n",
    "print(type(name))\n",
    "name = 10\n",
    "print(name)\n",
    "print(type(name))\n",
    "name = 12.6\n",
    "print(name)\n",
    "print(type(name))"
   ]
  },
  {
   "cell_type": "code",
   "execution_count": null,
   "id": "64c2fb91",
   "metadata": {},
   "outputs": [],
   "source": []
  }
 ],
 "metadata": {
  "kernelspec": {
   "display_name": "Python 3 (ipykernel)",
   "language": "python",
   "name": "python3"
  },
  "language_info": {
   "codemirror_mode": {
    "name": "ipython",
    "version": 3
   },
   "file_extension": ".py",
   "mimetype": "text/x-python",
   "name": "python",
   "nbconvert_exporter": "python",
   "pygments_lexer": "ipython3",
   "version": "3.11.4"
  }
 },
 "nbformat": 4,
 "nbformat_minor": 5
}
